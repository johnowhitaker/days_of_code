{
 "cells": [
  {
   "cell_type": "markdown",
   "metadata": {},
   "source": [
    "# Meeting Mice\n",
    "\n",
    "> Drawing some graphics for the AIcrowd [Multi-Agent BEhaviour Challenge](https://www.aicrowd.com/challenges/multi-agent-behavior-representation-modeling-measurement-and-applications)\n",
    "\n",
    "The challenge asks you to classify motion of mice when presented with another mouse. We are given a set of keypoints for each mouse for each frame (as well as an associated label for the type of behaviour). I want to draw these mice with 'trails' to show the motion path and capture many frames worth of data in one image.\n",
    "\n",
    "This didn't turn out particularly useful in the actual competition but it was a fun diversion :)"
   ]
  },
  {
   "cell_type": "code",
   "execution_count": null,
   "metadata": {},
   "outputs": [],
   "source": [
    "#hide\n",
    "from days_of_code.core import *\n",
    "import numpy as np\n",
    "import cairocffi as cairo\n",
    "from PIL import Image"
   ]
  },
  {
   "cell_type": "markdown",
   "metadata": {},
   "source": [
    "I am working with a small sample of the data saved with numpy."
   ]
  },
  {
   "cell_type": "code",
   "execution_count": null,
   "metadata": {},
   "outputs": [],
   "source": [
    "sequence = np.load('data/MABe/example_sequence.npy')"
   ]
  },
  {
   "cell_type": "markdown",
   "metadata": {},
   "source": [
    "FOr each frame (30fps video) the positions of keypoints on the mouse (nose, ears, neck, sides and tail) have been annotated. There is also a label for the behaviour happening at each time instant."
   ]
  },
  {
   "cell_type": "code",
   "execution_count": null,
   "metadata": {},
   "outputs": [
    {
     "data": {
      "text/plain": [
       "array([[[298.99367828, 266.99367828, 248.99367828, 243.99367828,\n",
       "         181.99367828, 144.99367828, 125.99367828],\n",
       "        [140.75094149, 194.75094149, 138.75094149, 169.75094149,\n",
       "         240.75094149, 167.75094149, 241.75094149]],\n",
       "\n",
       "       [[191.68942719, 226.68942719, 167.68942719, 200.68942719,\n",
       "         235.68942719, 161.68942719, 203.68942719],\n",
       "        [283.87298664, 323.87298664, 329.87298664, 342.87298664,\n",
       "         429.87298664, 433.87298664, 487.87298664]]])"
      ]
     },
     "execution_count": null,
     "metadata": {},
     "output_type": "execute_result"
    }
   ],
   "source": [
    "sequence[0] # Two mice, list of X and list of Y for each for one frame"
   ]
  },
  {
   "cell_type": "code",
   "execution_count": null,
   "metadata": {},
   "outputs": [],
   "source": [
    "imw, imh = 1024, 570 # The image dimensions in which the mice move about"
   ]
  },
  {
   "cell_type": "markdown",
   "metadata": {},
   "source": [
    "With some basic cairo drawing we can repeatedly draw the mice and animate them to watch the motion:"
   ]
  },
  {
   "cell_type": "code",
   "execution_count": null,
   "metadata": {},
   "outputs": [
    {
     "data": {
      "application/vnd.jupyter.widget-view+json": {
       "model_id": "e5515b49b0194a7698661abcb1ed48d9",
       "version_major": 2,
       "version_minor": 0
      },
      "text/plain": [
       "Image(value=b'\\x89PNG\\r\\n\\x1a\\n\\x00\\x00\\x00\\rIHDR\\x00\\x00\\x01\\x00\\x00\\x00\\x01\\x00\\x08\\x06\\x00\\x00\\x00\\\\r\\xa8f\\…"
      ]
     },
     "metadata": {},
     "output_type": "display_data"
    }
   ],
   "source": [
    "#skiptest\n",
    "\n",
    "\n",
    "\n",
    "def drawmouse(ctx, keypoints, w, h):\n",
    "    x, y = keypoints[0]*w/imw, keypoints[1]*h/imh\n",
    "    \n",
    "    # Head \n",
    "    ctx.move_to(x[3], y[3])\n",
    "    ctx.line_to(x[1], y[1])\n",
    "    ctx.line_to(x[0], y[0])\n",
    "    ctx.line_to(x[2], y[2])\n",
    "    ctx.line_to(x[3], y[3])\n",
    "    ctx.close_path()\n",
    "    ctx.set_source_rgb(1, 0.5, 0)\n",
    "    ctx.fill_preserve()\n",
    "    ctx.set_source_rgb(1, 1, 0)\n",
    "    ctx.set_line_width(3)\n",
    "    ctx.stroke()\n",
    "    \n",
    "    # Body \n",
    "    ctx.line_to(x[4], y[4])\n",
    "    ctx.line_to(x[6], y[6])\n",
    "    ctx.line_to(x[6], y[5])\n",
    "    ctx.line_to(x[3], y[3])\n",
    "    ctx.close_path()\n",
    "    ctx.set_source_rgb(1, 0.5, 0)\n",
    "    ctx.fill_preserve()\n",
    "    ctx.set_source_rgb(1, 1, 0)\n",
    "    ctx.set_line_width(3)\n",
    "    ctx.stroke()\n",
    "\n",
    "import ipywidgets as widgets\n",
    "\n",
    "# Set up surface\n",
    "surface = cairo.ImageSurface(cairo.FORMAT_ARGB32, 256, 256) # Create the surface\n",
    "ctx = cairo.Context(surface)\n",
    "\n",
    "widget = widgets.Image(\n",
    "    value=surface.write_to_png(),\n",
    "    format='png',\n",
    "    width=256,\n",
    "    height=256,\n",
    ")\n",
    "display(widget)\n",
    "\n",
    "for ks in sequence:\n",
    "    drawmouse(ctx, ks[0], 256, 150)\n",
    "    drawmouse(ctx, ks[1], 256, 150)\n",
    "    widget.value = surface.write_to_png()"
   ]
  },
  {
   "cell_type": "markdown",
   "metadata": {},
   "source": [
    "We want a static frame, so we modify the above with some colour to show both mice and 'trails' of where they have been and are going."
   ]
  },
  {
   "cell_type": "code",
   "execution_count": null,
   "metadata": {},
   "outputs": [],
   "source": [
    "def draw_instant(ctx, seq, w, h, T, n=30, step=3):\n",
    "    \n",
    "    for i in range(T-n, T+n, step):\n",
    "        for mouse in [0, 1]:\n",
    "            if i >= 0:\n",
    "                keypoints = seq[i][mouse]\n",
    "                x, y = keypoints[0]*w/imw, keypoints[1]*h/imh\n",
    "\n",
    "                # Head \n",
    "                ctx.move_to(x[3], y[3])\n",
    "                ctx.line_to(x[1], y[1])\n",
    "                ctx.line_to(x[0], y[0])\n",
    "                ctx.line_to(x[2], y[2])\n",
    "                ctx.line_to(x[3], y[3])\n",
    "                ctx.close_path()\n",
    "\n",
    "                ctx.set_source_rgba(0.5+0.5*(T-i)/n, 0.5-0.5*abs(T-i)/n, 0.2+mouse*0.6, 1-abs(T-i)/n)\n",
    "                ctx.fill_preserve()\n",
    "                ctx.stroke()\n",
    "\n",
    "                # Body \n",
    "                ctx.line_to(x[4], y[4])\n",
    "                ctx.line_to(x[6], y[6])\n",
    "                ctx.line_to(x[6], y[5])\n",
    "                ctx.line_to(x[3], y[3])\n",
    "                ctx.close_path()\n",
    "                ctx.set_source_rgba(0.2+mouse*0.6, 0.5+0.5*(T-i)/n, 0.5-0.5*abs(T-i)/n, 1-abs(T-i)/n)\n",
    "                ctx.fill_preserve()\n",
    "                ctx.stroke()\n",
    "    for mouse in [0, 1]:\n",
    "        keypoints = seq[T][mouse]\n",
    "        x, y = keypoints[0]*w/imw, keypoints[1]*h/imh\n",
    "        ctx.move_to(x[3], y[3])\n",
    "        ctx.line_to(x[1], y[1])\n",
    "        ctx.line_to(x[0], y[0])\n",
    "        ctx.line_to(x[2], y[2])\n",
    "        ctx.line_to(x[3], y[3])\n",
    "        ctx.close_path()\n",
    "        ctx.set_source_rgba(1, 0.5, 0.1, 1)\n",
    "        if mouse == 1:\n",
    "            ctx.set_source_rgba(1, 0.5, 0.8, 1)\n",
    "\n",
    "        ctx.fill_preserve()\n",
    "        ctx.set_source_rgb(0, 0, 0)\n",
    "        ctx.set_line_width(3)\n",
    "        ctx.stroke()\n",
    "\n",
    "        # Body \n",
    "        ctx.line_to(x[4], y[4])\n",
    "        ctx.line_to(x[6], y[6])\n",
    "        ctx.line_to(x[6], y[5])\n",
    "        ctx.line_to(x[3], y[3])\n",
    "        ctx.close_path()\n",
    "        ctx.set_source_rgba(0.5, 1, 0.1, 1)\n",
    "        if mouse == 1:\n",
    "            ctx.set_source_rgba(0.5, 1, 0.8, 1)\n",
    "        ctx.fill_preserve()\n",
    "        ctx.set_source_rgb(0, 0, 0)\n",
    "        ctx.set_line_width(3)\n",
    "        ctx.stroke()\n",
    "            \n",
    "# Set up surface\n",
    "surface = cairo.ImageSurface(cairo.FORMAT_ARGB32, 512, 512) # Create the surface\n",
    "ctx = cairo.Context(surface)\n",
    "draw_instant(ctx, sequence, 512, 512, 200, n=80, step=5)\n",
    "display_surface(surface)"
   ]
  },
  {
   "cell_type": "markdown",
   "metadata": {},
   "source": [
    "This needs to be quite fast - let's see how long it takes to make 100 images:"
   ]
  },
  {
   "cell_type": "code",
   "execution_count": null,
   "metadata": {},
   "outputs": [],
   "source": [
    "%%time\n",
    "for _ in range(100):\n",
    "    surface = cairo.ImageSurface(cairo.FORMAT_ARGB32, 256, 256) # Create the surface\n",
    "    ctx = cairo.Context(surface)\n",
    "    draw_instant(ctx, sequence, 256, 256, 200, n=80, step=5)\n",
    "display_surface(surface)"
   ]
  },
  {
   "cell_type": "code",
   "execution_count": null,
   "metadata": {},
   "outputs": [],
   "source": [
    "# We can save if we like\n",
    "surface.write_to_png('test.png')"
   ]
  },
  {
   "cell_type": "markdown",
   "metadata": {},
   "source": [
    "I fed a few thousand of these images to a resnet and trained it for a bit, but couldn't get more than ~66% accuracy so I gave up. The competition took the bulk of my coding time today so this is a short notebook. See you tomorrow."
   ]
  },
  {
   "cell_type": "code",
   "execution_count": null,
   "metadata": {},
   "outputs": [],
   "source": []
  }
 ],
 "metadata": {
  "kernelspec": {
   "display_name": "Python 3",
   "language": "python",
   "name": "python3"
  }
 },
 "nbformat": 4,
 "nbformat_minor": 4
}
