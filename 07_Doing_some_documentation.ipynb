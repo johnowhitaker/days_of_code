{
 "cells": [
  {
   "cell_type": "markdown",
   "metadata": {},
   "source": [
    "# Doing some Documentation\n",
    "\n",
    "It's fun to look back on the first week or so of mini-projects, but as I read over them on the website there are a few problems:\n",
    "- Some of the output (mainly all the widget stuff) doesn't get rendered in the html docs that become the website\n",
    "- I need to add some explanation in there - currently it's mostly code without good justification. \n",
    "\n",
    "To remedy this, I'm going to spend today's hour of 'coding' doing the other stuff: neatening up the notebooks, editing the overview page, properly showing the output, maybe making a video recap (if there's time) and generally tidying up the place. "
   ]
  },
  {
   "cell_type": "code",
   "execution_count": null,
   "metadata": {},
   "outputs": [],
   "source": []
  },
  {
   "cell_type": "code",
   "execution_count": null,
   "metadata": {},
   "outputs": [],
   "source": []
  },
  {
   "cell_type": "code",
   "execution_count": null,
   "metadata": {},
   "outputs": [],
   "source": [
    "# PS the rest of this was me testing state and such, ignore"
   ]
  },
  {
   "cell_type": "code",
   "execution_count": null,
   "metadata": {},
   "outputs": [
    {
     "data": {
      "application/vnd.jupyter.widget-view+json": {
       "model_id": "64f8e1ddaf484166ab1659a121bdad6e",
       "version_major": 2,
       "version_minor": 0
      },
      "text/plain": [
       "Canvas(width=800)"
      ]
     },
     "metadata": {},
     "output_type": "display_data"
    },
    {
     "data": {
      "application/vnd.jupyter.widget-view+json": {
       "model_id": "98bca5a7c9c0487fbcaa19fb9d5e0c02",
       "version_major": 2,
       "version_minor": 0
      },
      "text/plain": [
       "HTML(value='Event info')"
      ]
     },
     "metadata": {},
     "output_type": "display_data"
    }
   ],
   "source": [
    "from ipywidgets import Label, HTML, HBox, Image, VBox, Box, HBox\n",
    "from ipyevents import Event \n",
    "from IPython.display import display\n",
    "from time import sleep\n",
    "from ipycanvas import Canvas, hold_canvas\n",
    "import numpy as np\n",
    "\n",
    "# Initialize a canvas and an html element to show event info\n",
    "canvas = Canvas(width=800, height=500)   \n",
    "h = HTML('Event info')\n",
    "\n",
    "# Set up some random points to draw\n",
    "x = np.array(np.random.rayleigh(250, 100))\n",
    "y = np.array(np.random.rayleigh(250, 100))\n",
    "size = np.random.randint(1, 3, 100)\n",
    "\n",
    "# Event handling\n",
    "d = Event(source=canvas, watched_events=['click']) # , 'keydown', 'mouseenter'\n",
    "def handle_event(event):\n",
    "    h.value = str(event['relativeX'])\n",
    "d.on_dom_event(handle_event)\n",
    "\n",
    "# Display the widgets\n",
    "display(canvas, h)\n",
    "\n",
    "# Animation loop\n",
    "for i in range(200): # while(True) for infinite\n",
    "    with hold_canvas(canvas):\n",
    "        canvas.clear() # Clear the old animation step       \n",
    "        canvas.fill_style = 'green' \n",
    "        canvas.fill_rects(x, y, size) # Draw the new frame \n",
    "        x += 1 # Update positions\n",
    "    sleep(0.02) # Animation frequency ~50Hz = 1./50. seconds"
   ]
  },
  {
   "cell_type": "code",
   "execution_count": null,
   "metadata": {},
   "outputs": [
    {
     "data": {
      "application/vnd.jupyter.widget-view+json": {
       "model_id": "04106844229d478e8059a2a08c682c96",
       "version_major": 2,
       "version_minor": 0
      },
      "text/plain": [
       "Canvas(width=800)"
      ]
     },
     "metadata": {},
     "output_type": "display_data"
    },
    {
     "data": {
      "application/vnd.jupyter.widget-view+json": {
       "model_id": "d33f42e6104e47ca89cb7197e5eeb490",
       "version_major": 2,
       "version_minor": 0
      },
      "text/plain": [
       "HTML(value='Event info')"
      ]
     },
     "metadata": {},
     "output_type": "display_data"
    }
   ],
   "source": [
    "from ipywidgets import Label, HTML, HBox, Image, VBox, Box, HBox\n",
    "from ipyevents import Event \n",
    "from IPython.display import display\n",
    "from time import sleep\n",
    "from ipycanvas import Canvas, hold_canvas\n",
    "import numpy as np\n",
    "\n",
    "# Initialize a canvas and an html element to show event info\n",
    "canvas = Canvas(width=800, height=500)   \n",
    "h = HTML('Event info')\n",
    "\n",
    "# Set up some random points to draw\n",
    "x = np.array(np.random.rayleigh(250, 100))\n",
    "y = np.array(np.random.rayleigh(250, 100))\n",
    "size = np.random.randint(1, 3, 100)\n",
    "\n",
    "# Event handling\n",
    "d = Event(source=canvas, watched_events=['click']) # , 'keydown', 'mouseenter'\n",
    "def handle_event(event):\n",
    "    h.value = str(event['relativeX'])\n",
    "d.on_dom_event(handle_event)\n",
    "\n",
    "# Display the widgets\n",
    "display(canvas, h)"
   ]
  },
  {
   "cell_type": "code",
   "execution_count": null,
   "metadata": {},
   "outputs": [],
   "source": [
    "from threading import Timer\n",
    "\n",
    "class RepeatedTimer(object):\n",
    "    def __init__(self, interval, function, *args, **kwargs):\n",
    "        self._timer     = None\n",
    "        self.interval   = interval\n",
    "        self.function   = function\n",
    "        self.args       = args\n",
    "        self.kwargs     = kwargs\n",
    "        self.is_running = False\n",
    "        self.start()\n",
    "\n",
    "    def _run(self):\n",
    "        self.is_running = False\n",
    "        self.start()\n",
    "        self.function(*self.args, **self.kwargs)\n",
    "\n",
    "    def start(self):\n",
    "        if not self.is_running:\n",
    "            self._timer = Timer(self.interval, self._run)\n",
    "            self._timer.start()\n",
    "            self.is_running = True\n",
    "\n",
    "    def stop(self):\n",
    "        self._timer.cancel()\n",
    "        self.is_running = False\n",
    "        \n",
    "from time import sleep\n",
    "\n",
    "def update():\n",
    "    global x\n",
    "    with hold_canvas(canvas):\n",
    "        canvas.clear() # Clear the old animation step       \n",
    "        canvas.fill_style = 'green' \n",
    "        canvas.fill_rects(x, y, size) # Draw the new frame \n",
    "        x += 1 # Update positions\n",
    "\n",
    "\n",
    "rt = RepeatedTimer(0.02, update) # it auto-starts, no need of rt.start()    "
   ]
  },
  {
   "cell_type": "code",
   "execution_count": null,
   "metadata": {},
   "outputs": [],
   "source": [
    "rt.stop() # better in a try/finally block to make sure the program ends!"
   ]
  },
  {
   "cell_type": "code",
   "execution_count": null,
   "metadata": {},
   "outputs": [],
   "source": []
  }
 ],
 "metadata": {
  "kernelspec": {
   "display_name": "Python 3",
   "language": "python",
   "name": "python3"
  }
 },
 "nbformat": 4,
 "nbformat_minor": 4
}
