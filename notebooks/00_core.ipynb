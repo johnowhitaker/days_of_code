{
 "cells": [
  {
   "cell_type": "code",
   "execution_count": null,
   "metadata": {},
   "outputs": [],
   "source": [
    "# default_exp core"
   ]
  },
  {
   "cell_type": "markdown",
   "metadata": {},
   "source": [
    "# Some Core Utilities\n",
    "\n",
    "> A place to keep some common code\n",
    "\n",
    "This is a place to store some common code/utilities that will be used frequently in other notebooks. I started on it before formally launching the project, so it also has some notes to myself around the inner workings of nbdev. "
   ]
  },
  {
   "cell_type": "code",
   "execution_count": null,
   "metadata": {},
   "outputs": [],
   "source": [
    "#hide\n",
    "from nbdev.showdoc import *"
   ]
  },
  {
   "cell_type": "markdown",
   "metadata": {},
   "source": [
    "Cells can be hidden (with #hide). Cells with code that we want to export get an #export flag and will be placed into whatever file is specified in the first cell (`core.py` in this case). All other cells are treated as tests and will be executed as part of the CI included with NBDEV. In some cases we don't want to run cells every time - they can be marked with #slow or #skiptest and going forward will then only be run if we explicitly decide to do this.\n",
    "\n",
    "Let's start by exporting some demo code:"
   ]
  },
  {
   "cell_type": "code",
   "execution_count": null,
   "metadata": {},
   "outputs": [],
   "source": [
    "#export\n",
    "def demo_code():\n",
    "    return 'demo'"
   ]
  },
  {
   "cell_type": "markdown",
   "metadata": {},
   "source": [
    "We can run this code:"
   ]
  },
  {
   "cell_type": "code",
   "execution_count": null,
   "metadata": {},
   "outputs": [
    {
     "data": {
      "text/plain": [
       "'demo'"
      ]
     },
     "execution_count": null,
     "metadata": {},
     "output_type": "execute_result"
    }
   ],
   "source": [
    "demo_code()"
   ]
  },
  {
   "cell_type": "markdown",
   "metadata": {},
   "source": [
    "To make this a 'test' is simple:"
   ]
  },
  {
   "cell_type": "code",
   "execution_count": null,
   "metadata": {},
   "outputs": [],
   "source": [
    "assert str(demo_code()) == 'demo'"
   ]
  },
  {
   "cell_type": "markdown",
   "metadata": {},
   "source": [
    "Here's a cell that I want to run now but would be too slow for testing. In fact, it's one I never want to run:"
   ]
  },
  {
   "cell_type": "code",
   "execution_count": null,
   "metadata": {},
   "outputs": [],
   "source": [
    "#skiptest\n",
    "import time # This import should really be in a separate cell, especially if time is used elsewhere\n",
    "time.sleep(10)"
   ]
  },
  {
   "cell_type": "markdown",
   "metadata": {},
   "source": [
    "We can export the code from these notebooks and build the docs from the command line, but it is also useful to export the code from within the notebook. So the last cell here does just that:"
   ]
  },
  {
   "cell_type": "code",
   "execution_count": null,
   "metadata": {},
   "outputs": [
    {
     "name": "stdout",
     "output_type": "stream",
     "text": [
      "Converted 00_core.ipynb.\n",
      "Converted 01_Cairo_Hello.ipynb.\n",
      "Converted 02_Meeting_Mice.ipynb.\n",
      "Converted 03_Augmenting_Animals.ipynb.\n",
      "Converted 05_Playing_with_Perlin.ipynb.\n",
      "Converted 06_Interaction_with_ipycanvas.ipynb.\n",
      "Converted 07_Doing_some_documentation.ipynb.\n",
      "Converted 09_Data_Bubbles.ipynb.\n",
      "Converted 10_Going_3D.ipynb.\n",
      "Converted index.ipynb.\n"
     ]
    }
   ],
   "source": [
    "from nbdev.export import notebook2script; notebook2script()"
   ]
  }
 ],
 "metadata": {
  "kernelspec": {
   "display_name": "Python 3",
   "language": "python",
   "name": "python3"
  }
 },
 "nbformat": 4,
 "nbformat_minor": 2
}
