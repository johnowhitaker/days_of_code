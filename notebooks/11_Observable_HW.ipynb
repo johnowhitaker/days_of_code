{
 "cells": [
  {
   "cell_type": "markdown",
   "metadata": {},
   "source": [
    "# Meeting Observable\n",
    "\n",
    "I read an article by Benjamin Schmidt on [JavaScript and the next decade of data programming](http://benschmidt.org/post/2020-01-15/2020-01-15-webgpu/) and it featured something called 'Observable'. An interactive notebook-like environment for JS that has some pretty compelling features. Today I had a bit of a play with it and I am hooked - I really like the way they handle cell execution flow, and I am so excited to use this to share data viz and interactive experiences with others without the need for a web server, colab, python install etc. And it is so useful being able to export a specific cell to use wherever - in fact this notebook will just display a few iframes from my Observable notebook. [Check it out for the full code and some extra thoughts.](https://observablehq.com/@johnowhitaker/meeting-observable)"
   ]
  },
  {
   "cell_type": "code",
   "execution_count": null,
   "metadata": {},
   "outputs": [],
   "source": [
    "#hide\n",
    "from IPython.display import display, HTML"
   ]
  },
  {
   "cell_type": "code",
   "execution_count": null,
   "metadata": {},
   "outputs": [
    {
     "data": {
      "text/html": [
       "\n",
       "<iframe width=\"100%\" height=\"366\" frameborder=\"0\"\n",
       "  src=\"https://observablehq.com/embed/@johnowhitaker/meeting-observable?cells=p_zoom%2Cviewof+scale\"></iframe>\n"
      ],
      "text/plain": [
       "<IPython.core.display.HTML object>"
      ]
     },
     "metadata": {},
     "output_type": "display_data"
    }
   ],
   "source": [
    "display(HTML(\"\"\"\n",
    "<iframe width=\"100%\" height=\"366\" frameborder=\"0\"\n",
    "  src=\"https://observablehq.com/embed/@johnowhitaker/meeting-observable?cells=p_zoom%2Cviewof+scale\"></iframe>\n",
    "\"\"\"))"
   ]
  },
  {
   "cell_type": "code",
   "execution_count": null,
   "metadata": {},
   "outputs": [
    {
     "data": {
      "text/html": [
       "\n",
       "<iframe width=\"100%\" height=\"576\" frameborder=\"0\"\n",
       "  src=\"https://observablehq.com/embed/@johnowhitaker/meeting-observable?cells=anim%2Cviewof+speed%2Cviewof+perlin_scale%2Cviewof+x_offset%2Cviewof+y_offset\"></iframe>\n"
      ],
      "text/plain": [
       "<IPython.core.display.HTML object>"
      ]
     },
     "metadata": {},
     "output_type": "display_data"
    }
   ],
   "source": [
    "display(HTML(\"\"\"\n",
    "<iframe width=\"100%\" height=\"576\" frameborder=\"0\"\n",
    "  src=\"https://observablehq.com/embed/@johnowhitaker/meeting-observable?cells=anim%2Cviewof+speed%2Cviewof+perlin_scale%2Cviewof+x_offset%2Cviewof+y_offset\"></iframe>\n",
    "\"\"\"))"
   ]
  },
  {
   "cell_type": "markdown",
   "metadata": {},
   "source": [
    "Such good fun!"
   ]
  }
 ],
 "metadata": {
  "kernelspec": {
   "display_name": "Python 3",
   "language": "python",
   "name": "python3"
  }
 },
 "nbformat": 4,
 "nbformat_minor": 4
}
