{
 "cells": [
  {
   "cell_type": "code",
   "execution_count": null,
   "metadata": {},
   "outputs": [],
   "source": [
    "#default_exp abc"
   ]
  },
  {
   "cell_type": "markdown",
   "metadata": {},
   "source": [
    "# Web Scraping ABC\n",
    "\n",
    "> Pulling Irish music for future experiments"
   ]
  },
  {
   "cell_type": "code",
   "execution_count": null,
   "metadata": {},
   "outputs": [],
   "source": [
    "#hide\n",
    "from urllib.request import urlopen\n",
    "import requests\n",
    "from bs4 import BeautifulSoup\n",
    "from concurrent.futures import ThreadPoolExecutor\n",
    "import threading\n",
    "import csv\n",
    "import pandas as pd\n",
    "from tqdm.notebook import tqdm"
   ]
  },
  {
   "cell_type": "markdown",
   "metadata": {},
   "source": [
    "### Getting Tune URLs with BeautifulSoup"
   ]
  },
  {
   "cell_type": "code",
   "execution_count": null,
   "metadata": {},
   "outputs": [],
   "source": [
    "#skiptest\n",
    "url = 'https://thesession.org/tunes/search?type=&mode=Dmajor&q=&page=1'\n",
    "page = urlopen(url) # We would put thus in a try/catch block if we were being careful\n",
    "soup = BeautifulSoup(page, 'html.parser') # BeautifulSoup kindly parses the html for us"
   ]
  },
  {
   "cell_type": "markdown",
   "metadata": {},
   "source": [
    "For each page of results there is a list of ten songs. Each one is a list item (`li` in html) that starts with the following: `# <li class=\"manifest-item\">`. We can use BeautifulSoup's findAll method to get all of these list items:"
   ]
  },
  {
   "cell_type": "code",
   "execution_count": null,
   "metadata": {},
   "outputs": [
    {
     "name": "stdout",
     "output_type": "stream",
     "text": [
      "['/tunes/27', '/tunes/55', '/tunes/182', '/tunes/64', '/tunes/9', '/tunes/116', '/tunes/73', '/tunes/19', '/tunes/49', '/tunes/5']\n"
     ]
    }
   ],
   "source": [
    "#skiptest\n",
    "list_items = soup.findAll('li', {\"class\": \"manifest-item\"})\n",
    "urls = []\n",
    "for li in list_items:\n",
    "    link = li.find('a') # Get the link to the tune\n",
    "    urls.append(link.get('href')) # Store it for later \n",
    "\n",
    "print(urls) # A list of URLs for us to scrape"
   ]
  },
  {
   "cell_type": "markdown",
   "metadata": {},
   "source": [
    "### Extracting the tune from the tune page\n",
    "\n",
    "There are often multiple 'arrangements'. Each get their own 'notes' div on the tune page - we use `find` instead of `findAll` to only get the first one:"
   ]
  },
  {
   "cell_type": "code",
   "execution_count": null,
   "metadata": {},
   "outputs": [
    {
     "data": {
      "text/plain": [
       "'\\nX: 1\\nT: Drowsy Maggie\\nR: reel\\n\\nM: 4/4\\nL: 1/8\\nK: Edor\\n|:E2BE dEBE|E2BE AFDF|E2BE dEBE|BABc dAFD:|\\nd2fd c2ec|defg afge|d2fd c2ec|BABc dAFA|\\nd2fd c2ec|defg afge|afge fdec|BABc dAFD|\\n\\n'"
      ]
     },
     "execution_count": null,
     "metadata": {},
     "output_type": "execute_result"
    }
   ],
   "source": [
    "#skiptest\n",
    "tune_page = requests.get('https://thesession.org'+urls[0])\n",
    "tune_soup = BeautifulSoup(tune_page.text, 'html5lib')\n",
    "tune_content = tune_soup.find('div', {\"class\": \"notes\"})\n",
    "tune_content.text"
   ]
  },
  {
   "cell_type": "markdown",
   "metadata": {},
   "source": [
    "I found it easiest at this stage to just parse the text above myself, using a function to pull out the tune title, info and notes:"
   ]
  },
  {
   "cell_type": "code",
   "execution_count": null,
   "metadata": {},
   "outputs": [],
   "source": [
    "#export\n",
    "def parse_tune(tune_content):\n",
    "    t = {\n",
    "        'Title': tune_content.text.split('\\nT: ')[1].split('\\n')[0],\n",
    "        'Type':tune_content.text.split('\\nR: ')[1].split('\\n')[0],\n",
    "        'Meter':tune_content.text.split('\\nM: ')[1].split('\\n')[0],\n",
    "        'Length':tune_content.text.split('\\nL: ')[1].split('\\n')[0],\n",
    "        'Key':tune_content.text.split('\\nK: ')[1].split('\\n')[0],\n",
    "        'Notes':''.join(tune_content.text.split('\\nK: ')[1].split('\\n')[1:],)\n",
    "    }\n",
    "    return t"
   ]
  },
  {
   "cell_type": "code",
   "execution_count": null,
   "metadata": {},
   "outputs": [
    {
     "data": {
      "text/plain": [
       "{'Title': 'Drowsy Maggie',\n",
       " 'Type': 'reel',\n",
       " 'Meter': '4/4',\n",
       " 'Length': '1/8',\n",
       " 'Key': 'Edor',\n",
       " 'Notes': '|:E2BE dEBE|E2BE AFDF|E2BE dEBE|BABc dAFD:|d2fd c2ec|defg afge|d2fd c2ec|BABc dAFA|d2fd c2ec|defg afge|afge fdec|BABc dAFD|'}"
      ]
     },
     "execution_count": null,
     "metadata": {},
     "output_type": "execute_result"
    }
   ],
   "source": [
    "#skiptest\n",
    "parse_tune(tune_content)"
   ]
  },
  {
   "cell_type": "markdown",
   "metadata": {},
   "source": [
    "### Scraping in parallel\n",
    "\n",
    "I'm impatient, so I use some parallel processing with `ThreadPoolExecutor` to fetch up to ten tunes at once. There's a thread lock to stop concurrent writes to a csv file which I've set up `get_tune` to store the tunes in."
   ]
  },
  {
   "cell_type": "code",
   "execution_count": null,
   "metadata": {},
   "outputs": [],
   "source": [
    "csv_writer_lock = threading.Lock()"
   ]
  },
  {
   "cell_type": "code",
   "execution_count": null,
   "metadata": {},
   "outputs": [],
   "source": [
    "#export\n",
    "def get_tune(tune_url, savefile='data/all_tunes.csv'):\n",
    "    tune_page = requests.get('https://thesession.org'+tune_url)\n",
    "    tune_soup = BeautifulSoup(tune_page.text, 'html5lib')\n",
    "    tune_content = tune_soup.find('div', {\"class\": \"notes\"}) # Just the first arrangement\n",
    "    tune = parse_tune(tune_content)\n",
    "    with csv_writer_lock:\n",
    "        with open(savefile, mode=\"a\") as f1:\n",
    "            review_writer = csv.writer(f1, delimiter=\",\")\n",
    "            review_writer.writerow(tune.values())\n",
    "    return tune\n",
    "\n",
    "def set_up_threads(urls):\n",
    "    with ThreadPoolExecutor(max_workers=10) as executor:\n",
    "        return executor.map(get_tune,    \n",
    "                            urls,\n",
    "                            timeout = 60)"
   ]
  },
  {
   "cell_type": "markdown",
   "metadata": {},
   "source": [
    "We can use this to grab all our tunes in parallel:"
   ]
  },
  {
   "cell_type": "code",
   "execution_count": null,
   "metadata": {},
   "outputs": [],
   "source": [
    "#skiptest\n",
    "set_up_threads(urls)"
   ]
  },
  {
   "cell_type": "markdown",
   "metadata": {},
   "source": [
    "I ran this for multiple pages of search results to get 500 songs. This is what that ends up looking like:"
   ]
  },
  {
   "cell_type": "code",
   "execution_count": null,
   "metadata": {},
   "outputs": [
    {
     "name": "stdout",
     "output_type": "stream",
     "text": [
      "(500, 5)\n"
     ]
    },
    {
     "data": {
      "text/html": [
       "<div>\n",
       "<style scoped>\n",
       "    .dataframe tbody tr th:only-of-type {\n",
       "        vertical-align: middle;\n",
       "    }\n",
       "\n",
       "    .dataframe tbody tr th {\n",
       "        vertical-align: top;\n",
       "    }\n",
       "\n",
       "    .dataframe thead th {\n",
       "        text-align: right;\n",
       "    }\n",
       "</style>\n",
       "<table border=\"1\" class=\"dataframe\">\n",
       "  <thead>\n",
       "    <tr style=\"text-align: right;\">\n",
       "      <th></th>\n",
       "      <th>Title</th>\n",
       "      <th>Type</th>\n",
       "      <th>TS</th>\n",
       "      <th>Key</th>\n",
       "      <th>Notes</th>\n",
       "    </tr>\n",
       "  </thead>\n",
       "  <tbody>\n",
       "    <tr>\n",
       "      <th>The Maid Behind The Bar</th>\n",
       "      <td>reel</td>\n",
       "      <td>4/4</td>\n",
       "      <td>1/8</td>\n",
       "      <td>Dmaj</td>\n",
       "      <td>|:FAAB AFED|FAAB ABde|fBBA Bcde|fBBA BcdA|FAAB...</td>\n",
       "    </tr>\n",
       "    <tr>\n",
       "      <th>The Musical Priest</th>\n",
       "      <td>reel</td>\n",
       "      <td>4/4</td>\n",
       "      <td>1/8</td>\n",
       "      <td>Bmin</td>\n",
       "      <td>|:BA|FBBA B2Bd|cBAf ecBA|FBBA B2Bd|cBAc B2:||:...</td>\n",
       "    </tr>\n",
       "    <tr>\n",
       "      <th>Banish Misfortune</th>\n",
       "      <td>jig</td>\n",
       "      <td>6/8</td>\n",
       "      <td>1/8</td>\n",
       "      <td>Dmix</td>\n",
       "      <td>fed cAG| A2d cAG| F2D DED| FEF GFG|AGA cAG| AG...</td>\n",
       "    </tr>\n",
       "    <tr>\n",
       "      <th>The Silver Spear</th>\n",
       "      <td>reel</td>\n",
       "      <td>4/4</td>\n",
       "      <td>1/8</td>\n",
       "      <td>Dmaj</td>\n",
       "      <td>A|:FA (3AAA BAFA|dfed BddA|FA (3AAA BAFA|dfed ...</td>\n",
       "    </tr>\n",
       "    <tr>\n",
       "      <th>Drowsy Maggie</th>\n",
       "      <td>reel</td>\n",
       "      <td>4/4</td>\n",
       "      <td>1/8</td>\n",
       "      <td>Edor</td>\n",
       "      <td>|:E2BE dEBE|E2BE AFDF|E2BE dEBE|BABc dAFD:|d2f...</td>\n",
       "    </tr>\n",
       "  </tbody>\n",
       "</table>\n",
       "</div>"
      ],
      "text/plain": [
       "                        Title Type   TS   Key  \\\n",
       "The Maid Behind The Bar  reel  4/4  1/8  Dmaj   \n",
       "The Musical Priest       reel  4/4  1/8  Bmin   \n",
       "Banish Misfortune         jig  6/8  1/8  Dmix   \n",
       "The Silver Spear         reel  4/4  1/8  Dmaj   \n",
       "Drowsy Maggie            reel  4/4  1/8  Edor   \n",
       "\n",
       "                                                                     Notes  \n",
       "The Maid Behind The Bar  |:FAAB AFED|FAAB ABde|fBBA Bcde|fBBA BcdA|FAAB...  \n",
       "The Musical Priest       |:BA|FBBA B2Bd|cBAf ecBA|FBBA B2Bd|cBAc B2:||:...  \n",
       "Banish Misfortune        fed cAG| A2d cAG| F2D DED| FEF GFG|AGA cAG| AG...  \n",
       "The Silver Spear         A|:FA (3AAA BAFA|dfed BddA|FA (3AAA BAFA|dfed ...  \n",
       "Drowsy Maggie            |:E2BE dEBE|E2BE AFDF|E2BE dEBE|BABc dAFD:|d2f...  "
      ]
     },
     "execution_count": null,
     "metadata": {},
     "output_type": "execute_result"
    }
   ],
   "source": [
    "df = pd.read_csv('data/all_tunes.csv', names = ['Title', 'Type', 'TS', 'Key', 'Notes'])\n",
    "print(df.shape)\n",
    "df.head()"
   ]
  },
  {
   "cell_type": "markdown",
   "metadata": {},
   "source": [
    "This dataset will be useful for a project idea I have had brewing - but my hour is up so that's where we are ending for today."
   ]
  }
 ],
 "metadata": {
  "kernelspec": {
   "display_name": "Python 3",
   "language": "python",
   "name": "python3"
  }
 },
 "nbformat": 4,
 "nbformat_minor": 4
}
