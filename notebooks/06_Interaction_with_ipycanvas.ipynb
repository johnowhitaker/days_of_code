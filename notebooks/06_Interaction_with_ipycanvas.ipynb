{
 "cells": [
  {
   "cell_type": "code",
   "execution_count": null,
   "metadata": {},
   "outputs": [],
   "source": [
    "#default_exp core"
   ]
  },
  {
   "cell_type": "markdown",
   "metadata": {},
   "source": [
    "# Getting Interactive\n",
    "\n",
    "> Making things more... fun?\n",
    "\n",
    "I like cairo but it doesn't seem built for creating interactive experiences within a notebook - something I'd like to explore. I considered moving out of the notebook format to play with javascript and the html5 canvas but I would like to keep things in NBDev if possoble, and so I looked around and found ipycanvas - let's have a play...\n",
    "\n",
    "To follow along make sure you have it installed: `pip install ipycanvas`"
   ]
  },
  {
   "cell_type": "markdown",
   "metadata": {},
   "source": [
    "# Basics of Drawing\n",
    "\n",
    "I went to the docs to copy-paste a few examples for later reference:"
   ]
  },
  {
   "cell_type": "code",
   "execution_count": null,
   "metadata": {},
   "outputs": [
    {
     "data": {
      "application/vnd.jupyter.widget-view+json": {
       "model_id": "42054f5f324f4d1b97c4acc101e61059",
       "version_major": 2,
       "version_minor": 0
      },
      "text/plain": [
       "Canvas(height=150, width=200)"
      ]
     },
     "metadata": {},
     "output_type": "display_data"
    }
   ],
   "source": [
    "from ipycanvas import Canvas\n",
    "\n",
    "canvas = Canvas(width=200, height=150)\n",
    "\n",
    "canvas.fill_rect(25, 25, 100, 100)\n",
    "canvas.clear_rect(45, 45, 60, 60)\n",
    "canvas.stroke_rect(50, 50, 50, 50)\n",
    "\n",
    "canvas"
   ]
  },
  {
   "cell_type": "markdown",
   "metadata": {},
   "source": [
    "Apparently it's fast... Let's play with some perlin noise from 05."
   ]
  },
  {
   "cell_type": "code",
   "execution_count": null,
   "metadata": {},
   "outputs": [
    {
     "data": {
      "application/vnd.jupyter.widget-view+json": {
       "model_id": "5b0016510c214fe98fa74b5be835cecf",
       "version_major": 2,
       "version_minor": 0
      },
      "text/plain": [
       "Canvas(sync_image_data=True, width=800)"
      ]
     },
     "metadata": {},
     "output_type": "display_data"
    }
   ],
   "source": [
    "import days_of_code\n",
    "from days_of_code.perlin import *\n",
    "import numpy as np\n",
    "\n",
    "n_particles = 5_000\n",
    "steps = 50\n",
    "delta = 1\n",
    "\n",
    "x = np.array(np.random.rayleigh(250, n_particles))\n",
    "y = np.array(np.random.rayleigh(250, n_particles))\n",
    "size = np.random.randint(1, 3, n_particles)\n",
    "\n",
    "canvas = Canvas(width=800, height=500, sync_image_data=True)\n",
    "\n",
    "for i in range(steps):\n",
    "    # Draw\n",
    "    canvas.fill_style = 'green'\n",
    "    canvas.fill_rects(x, y, size)\n",
    "    \n",
    "    # Compute new locations\n",
    "    angles = days_of_code.perlin.perlin(x/100, y/100) * 3\n",
    "    x += np.sin(angles)*delta\n",
    "    y += np.cos(angles)*delta\n",
    "\n",
    "canvas"
   ]
  },
  {
   "cell_type": "code",
   "execution_count": null,
   "metadata": {},
   "outputs": [
    {
     "ename": "RuntimeError",
     "evalue": "No image data to save, please be sure that ``sync_image_data`` is set to True",
     "output_type": "error",
     "traceback": [
      "\u001b[0;31m---------------------------------------------------------------------------\u001b[0m",
      "\u001b[0;31mRuntimeError\u001b[0m                              Traceback (most recent call last)",
      "\u001b[0;32m<ipython-input-4-dbfb50efe5a2>\u001b[0m in \u001b[0;36m<module>\u001b[0;34m\u001b[0m\n\u001b[1;32m      1\u001b[0m \u001b[0;31m#skiptest\u001b[0m\u001b[0;34m\u001b[0m\u001b[0;34m\u001b[0m\u001b[0;34m\u001b[0m\u001b[0m\n\u001b[0;32m----> 2\u001b[0;31m \u001b[0mcanvas\u001b[0m\u001b[0;34m.\u001b[0m\u001b[0mto_file\u001b[0m\u001b[0;34m(\u001b[0m\u001b[0;34m'outputs/perlin_ipycanvas1.png'\u001b[0m\u001b[0;34m)\u001b[0m \u001b[0;31m# Saving to file requires sync_image_data=True when making the canvas\u001b[0m\u001b[0;34m\u001b[0m\u001b[0;34m\u001b[0m\u001b[0m\n\u001b[0m",
      "\u001b[0;32m~/anaconda3/lib/python3.7/site-packages/ipycanvas/canvas.py\u001b[0m in \u001b[0;36mto_file\u001b[0;34m(self, filename)\u001b[0m\n\u001b[1;32m    195\u001b[0m         \"\"\"\n\u001b[1;32m    196\u001b[0m         \u001b[0;32mif\u001b[0m \u001b[0mself\u001b[0m\u001b[0;34m.\u001b[0m\u001b[0mimage_data\u001b[0m \u001b[0;32mis\u001b[0m \u001b[0;32mNone\u001b[0m\u001b[0;34m:\u001b[0m\u001b[0;34m\u001b[0m\u001b[0;34m\u001b[0m\u001b[0m\n\u001b[0;32m--> 197\u001b[0;31m             \u001b[0;32mraise\u001b[0m \u001b[0mRuntimeError\u001b[0m\u001b[0;34m(\u001b[0m\u001b[0;34m'No image data to save, please be sure that ``sync_image_data`` is set to True'\u001b[0m\u001b[0;34m)\u001b[0m\u001b[0;34m\u001b[0m\u001b[0;34m\u001b[0m\u001b[0m\n\u001b[0m\u001b[1;32m    198\u001b[0m         \u001b[0;32mif\u001b[0m \u001b[0;32mnot\u001b[0m \u001b[0mfilename\u001b[0m\u001b[0;34m.\u001b[0m\u001b[0mendswith\u001b[0m\u001b[0;34m(\u001b[0m\u001b[0;34m'.png'\u001b[0m\u001b[0;34m)\u001b[0m \u001b[0;32mand\u001b[0m \u001b[0;32mnot\u001b[0m \u001b[0mfilename\u001b[0m\u001b[0;34m.\u001b[0m\u001b[0mendswith\u001b[0m\u001b[0;34m(\u001b[0m\u001b[0;34m'.PNG'\u001b[0m\u001b[0;34m)\u001b[0m\u001b[0;34m:\u001b[0m\u001b[0;34m\u001b[0m\u001b[0;34m\u001b[0m\u001b[0m\n\u001b[1;32m    199\u001b[0m             \u001b[0;32mraise\u001b[0m \u001b[0mRuntimeError\u001b[0m\u001b[0;34m(\u001b[0m\u001b[0;34m'Can only save to a PNG file'\u001b[0m\u001b[0;34m)\u001b[0m\u001b[0;34m\u001b[0m\u001b[0;34m\u001b[0m\u001b[0m\n",
      "\u001b[0;31mRuntimeError\u001b[0m: No image data to save, please be sure that ``sync_image_data`` is set to True"
     ]
    }
   ],
   "source": [
    "#skiptest\n",
    "canvas.to_file('outputs/perlin_ipycanvas1.png') # Saving to file requires sync_image_data=True when making the canvas"
   ]
  },
  {
   "cell_type": "markdown",
   "metadata": {},
   "source": [
    "Nice! But the real fun is in making things move"
   ]
  },
  {
   "cell_type": "markdown",
   "metadata": {},
   "source": [
    "# Animations\n",
    "\n",
    "The idea here is to set things up, animate in an infinite loop with sleep to slow things down, and then have events listening for mouse and keyboard input to change state and such."
   ]
  },
  {
   "cell_type": "code",
   "execution_count": null,
   "metadata": {},
   "outputs": [
    {
     "data": {
      "application/vnd.jupyter.widget-view+json": {
       "model_id": "649c67dd06164fb2823fe3022ecda4ac",
       "version_major": 2,
       "version_minor": 0
      },
      "text/plain": [
       "Canvas(width=800)"
      ]
     },
     "metadata": {},
     "output_type": "display_data"
    }
   ],
   "source": [
    "#skiptest\n",
    "from time import sleep\n",
    "from ipycanvas import Canvas, hold_canvas\n",
    "\n",
    "canvas = Canvas(width=800, height=500)\n",
    "display(canvas)\n",
    "\n",
    "x = np.array(np.random.rayleigh(250, n_particles))\n",
    "y = np.array(np.random.rayleigh(250, n_particles))\n",
    "size = np.random.randint(1, 3, n_particles)\n",
    "\n",
    "for i in range(100): # while(True) for infinite\n",
    "    with hold_canvas(canvas):\n",
    "        # Clear the old animation step\n",
    "        canvas.clear()\n",
    "        \n",
    "        canvas.fill_style = 'green'\n",
    "        canvas.fill_rects(x, y, size)\n",
    "    \n",
    "        # Compute new locations\n",
    "        angles = days_of_code.perlin.perlin(x/100, y/100) * 3\n",
    "        x += np.sin(angles)*delta\n",
    "        y += np.cos(angles)*delta\n",
    "        \n",
    "    # Animation frequency ~50Hz = 1./50. seconds\n",
    "    sleep(0.02)"
   ]
  },
  {
   "cell_type": "markdown",
   "metadata": {},
   "source": [
    "# Interaction\n",
    "\n",
    "I tried to add some interaction during animation with both ipycanvas' mouse events and ipevents - neither worked. It turns out using time.sleep() to run animations blocks everything and the events only get fired once the animation stops. To fix this we can use the threading library to handle running the animation loop in a separate thread."
   ]
  },
  {
   "cell_type": "code",
   "execution_count": null,
   "metadata": {},
   "outputs": [],
   "source": [
    "#export\n",
    "from threading import Timer\n",
    "class RepeatedTimer(object):\n",
    "    def __init__(self, interval, function, *args, **kwargs):\n",
    "        self._timer     = None\n",
    "        self.interval   = interval\n",
    "        self.function   = function\n",
    "        self.args       = args\n",
    "        self.kwargs     = kwargs\n",
    "        self.is_running = False\n",
    "        self.start()\n",
    "\n",
    "    def _run(self):\n",
    "        self.is_running = False\n",
    "        self.start()\n",
    "        self.function(*self.args, **self.kwargs)\n",
    "\n",
    "    def start(self):\n",
    "        if not self.is_running:\n",
    "            self._timer = Timer(self.interval, self._run)\n",
    "            self._timer.start()\n",
    "            self.is_running = True\n",
    "\n",
    "    def stop(self):\n",
    "        self._timer.cancel()\n",
    "        self.is_running = False"
   ]
  },
  {
   "cell_type": "code",
   "execution_count": null,
   "metadata": {},
   "outputs": [
    {
     "data": {
      "application/vnd.jupyter.widget-view+json": {
       "model_id": "45438cda618e401c84ba705dfd44f576",
       "version_major": 2,
       "version_minor": 0
      },
      "text/plain": [
       "Canvas(width=800)"
      ]
     },
     "metadata": {},
     "output_type": "display_data"
    },
    {
     "data": {
      "application/vnd.jupyter.widget-view+json": {
       "model_id": "f272cc52b81044be80a750becc9d5d56",
       "version_major": 2,
       "version_minor": 0
      },
      "text/plain": [
       "HTML(value='Event info')"
      ]
     },
     "metadata": {},
     "output_type": "display_data"
    }
   ],
   "source": [
    "from ipywidgets import Label, HTML\n",
    "from copy import deepcopy\n",
    "\n",
    "# Setting up the canvas and event handling\n",
    "canvas = Canvas(width=800, height=500)  \n",
    "h = HTML('Event info')\n",
    "\n",
    "x = np.array(np.random.rayleigh(250, n_particles))\n",
    "y = np.array(np.random.rayleigh(250, n_particles))\n",
    "size = np.random.randint(1, 3, n_particles)\n",
    "\n",
    "\n",
    "def update_canvas():\n",
    "    with hold_canvas(canvas):\n",
    "        canvas.clear() # Clear the old animation step       \n",
    "        canvas.fill_style = 'green' \n",
    "        canvas.fill_rects(x, y, size) # Draw the new frame \n",
    "\n",
    "def handle_mouse_down(xpos, ypos):\n",
    "    global x, y\n",
    "    x_new = np.array(np.random.rayleigh(30, 100))+xpos-15\n",
    "    y_new = np.array(np.random.rayleigh(30, 100))+ypos-15\n",
    "    x = np.concatenate([x[-4000:], x_new])\n",
    "    y = np.concatenate([y[-4000:], y_new])\n",
    "    size = np.random.randint(1, 3, len(x))\n",
    "    update_canvas()\n",
    "    \n",
    "    \n",
    "    \n",
    "#     x = np.array(np.random.rayleigh(250, n_particles))\n",
    "#     y = np.array(np.random.rayleigh(250, n_particles))\n",
    "#     size = np.random.randint(1, 3, n_particles)\n",
    "    \n",
    "    h.value = str(xpos) + '_' + str(x.shape) + '_' + str(x.shape)\n",
    "#     x = np.array(np.random.rayleigh(250, n_particles))\n",
    "#     y = np.array(np.random.rayleigh(250, n_particles))\n",
    "#     size = np.random.randint(1, 3, n_particles)\n",
    "\n",
    "canvas.on_mouse_down(handle_mouse_down)\n",
    "display(canvas, h)"
   ]
  },
  {
   "cell_type": "code",
   "execution_count": null,
   "metadata": {},
   "outputs": [],
   "source": [
    "# The canvas update function\n",
    "def update():\n",
    "    global x, y\n",
    "    update_canvas()\n",
    "    # Compute new locations\n",
    "    angles = days_of_code.perlin.perlin(x/100, y/100) * 3\n",
    "    x += np.sin(angles)*delta\n",
    "    y += np.cos(angles)*delta\n",
    "\n",
    "interval = 0.02\n",
    "rt = RepeatedTimer(interval, update) # it auto-starts, no need of rt.start()    "
   ]
  },
  {
   "cell_type": "code",
   "execution_count": null,
   "metadata": {},
   "outputs": [],
   "source": [
    "rt.stop()"
   ]
  },
  {
   "cell_type": "code",
   "execution_count": null,
   "metadata": {},
   "outputs": [],
   "source": []
  }
 ],
 "metadata": {
  "kernelspec": {
   "display_name": "Python 3",
   "language": "python",
   "name": "python3"
  }
 },
 "nbformat": 4,
 "nbformat_minor": 4
}
