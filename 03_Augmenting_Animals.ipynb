{
 "cells": [
  {
   "cell_type": "markdown",
   "metadata": {},
   "source": [
    "# Augmenting Animals\n",
    "\n",
    "> Data augmentation on the problem from yesterday [Multi-Agent BEhaviour Challenge](https://www.aicrowd.com/challenges/multi-agent-behavior-representation-modeling-measurement-and-applications)\n",
    "\n",
    "The challenge asks you to classify motion of mice when presented with another mouse. We are given a set of keypoints for each mouse for each frame (as well as an associated label for the type of behaviour). I want to draw these mice with 'trails' to show the motion path and capture many frames worth of data in one image.\n",
    "\n",
    "This didn't turn out particularly useful in the actual competition but it was a fun diversion :)"
   ]
  },
  {
   "cell_type": "code",
   "execution_count": null,
   "metadata": {},
   "outputs": [],
   "source": [
    "#hide\n",
    "from days_of_code.core import *\n",
    "import numpy as np\n",
    "import cairocffi as cairo\n",
    "from PIL import Image"
   ]
  },
  {
   "cell_type": "markdown",
   "metadata": {},
   "source": [
    "I am working with a small sample of the data saved with numpy."
   ]
  },
  {
   "cell_type": "code",
   "execution_count": null,
   "metadata": {},
   "outputs": [],
   "source": [
    "sequence = np.load('data/MABe/example_sequence.npy')"
   ]
  },
  {
   "cell_type": "markdown",
   "metadata": {},
   "source": [
    "FOr each frame (30fps video) the positions of keypoints on the mouse (nose, ears, neck, sides and tail) have been annotated. There is also a label for the behaviour happening at each time instant."
   ]
  },
  {
   "cell_type": "code",
   "execution_count": null,
   "metadata": {},
   "outputs": [
    {
     "data": {
      "text/plain": [
       "array([[[298.99367828, 266.99367828, 248.99367828, 243.99367828,\n",
       "         181.99367828, 144.99367828, 125.99367828],\n",
       "        [140.75094149, 194.75094149, 138.75094149, 169.75094149,\n",
       "         240.75094149, 167.75094149, 241.75094149]],\n",
       "\n",
       "       [[191.68942719, 226.68942719, 167.68942719, 200.68942719,\n",
       "         235.68942719, 161.68942719, 203.68942719],\n",
       "        [283.87298664, 323.87298664, 329.87298664, 342.87298664,\n",
       "         429.87298664, 433.87298664, 487.87298664]]])"
      ]
     },
     "execution_count": null,
     "metadata": {},
     "output_type": "execute_result"
    }
   ],
   "source": [
    "sequence[0] # Two mice, list of X and list of Y for each for one frame"
   ]
  },
  {
   "cell_type": "code",
   "execution_count": null,
   "metadata": {},
   "outputs": [],
   "source": [
    "imw, imh = 1024, 570 # The image dimensions in which the mice move about"
   ]
  },
  {
   "cell_type": "code",
   "execution_count": null,
   "metadata": {},
   "outputs": [],
   "source": [
    "def augment_sequence(seq):\n",
    "    imw, imh = 1024, 570\n",
    "    if random.random()>0.5:\n",
    "        for frame in range(len(seq)):\n",
    "            for m in [0, 1]:\n",
    "                seq[frame][m][0] = imw-seq[frame][m][0] # X flip\n",
    "    if random.random()>0.5:\n",
    "        for frame in range(len(seq)):\n",
    "            for m in [0, 1]:\n",
    "                seq[frame][m][1] = imh-seq[frame][m][1] # X flip\n",
    "                    \n",
    "    if random.random()>0.7:\n",
    "        angle = (np.random.rand()-0.5) * (np.pi * 2)\n",
    "        c, s = np.cos(angle), np.sin(angle)\n",
    "        rot = np.array([[c, -s], [s, c]])\n",
    "        for frame in range(len(seq)):\n",
    "            for m in [0, 1]:\n",
    "                seq[frame][m] -= np.array([[imw/2]*7, [imh/2]*7])\n",
    "                seq[frame][m] = np.dot(np.array(seq[frame][m]).T, rot).T\n",
    "                seq[frame][m] += np.array([[imw/2]*7, [imh/2]*7])\n",
    "                    \n",
    "    \n",
    "    return seq\n"
   ]
  },
  {
   "cell_type": "code",
   "execution_count": null,
   "metadata": {},
   "outputs": [
    {
     "ename": "NameError",
     "evalue": "name 'draw_instant' is not defined",
     "output_type": "error",
     "traceback": [
      "\u001b[0;31m---------------------------------------------------------------------------\u001b[0m",
      "\u001b[0;31mNameError\u001b[0m                                 Traceback (most recent call last)",
      "\u001b[0;32m<ipython-input-6-48872e7308ac>\u001b[0m in \u001b[0;36m<module>\u001b[0;34m\u001b[0m\n\u001b[1;32m      3\u001b[0m \u001b[0msurface\u001b[0m \u001b[0;34m=\u001b[0m \u001b[0mcairo\u001b[0m\u001b[0;34m.\u001b[0m\u001b[0mImageSurface\u001b[0m\u001b[0;34m(\u001b[0m\u001b[0mcairo\u001b[0m\u001b[0;34m.\u001b[0m\u001b[0mFORMAT_ARGB32\u001b[0m\u001b[0;34m,\u001b[0m \u001b[0;36m256\u001b[0m\u001b[0;34m,\u001b[0m \u001b[0;36m256\u001b[0m\u001b[0;34m)\u001b[0m \u001b[0;31m# Create the surface\u001b[0m\u001b[0;34m\u001b[0m\u001b[0;34m\u001b[0m\u001b[0m\n\u001b[1;32m      4\u001b[0m \u001b[0mctx\u001b[0m \u001b[0;34m=\u001b[0m \u001b[0mcairo\u001b[0m\u001b[0;34m.\u001b[0m\u001b[0mContext\u001b[0m\u001b[0;34m(\u001b[0m\u001b[0msurface\u001b[0m\u001b[0;34m)\u001b[0m\u001b[0;34m\u001b[0m\u001b[0;34m\u001b[0m\u001b[0m\n\u001b[0;32m----> 5\u001b[0;31m \u001b[0mdraw_instant\u001b[0m\u001b[0;34m(\u001b[0m\u001b[0mctx\u001b[0m\u001b[0;34m,\u001b[0m \u001b[0msequence\u001b[0m\u001b[0;34m,\u001b[0m \u001b[0;36m256\u001b[0m\u001b[0;34m,\u001b[0m \u001b[0;36m256\u001b[0m\u001b[0;34m,\u001b[0m \u001b[0;36m200\u001b[0m\u001b[0;34m,\u001b[0m \u001b[0mn\u001b[0m\u001b[0;34m=\u001b[0m\u001b[0;36m80\u001b[0m\u001b[0;34m,\u001b[0m \u001b[0mstep\u001b[0m\u001b[0;34m=\u001b[0m\u001b[0;36m5\u001b[0m\u001b[0;34m)\u001b[0m \u001b[0;31m# Original\u001b[0m\u001b[0;34m\u001b[0m\u001b[0;34m\u001b[0m\u001b[0m\n\u001b[0m\u001b[1;32m      6\u001b[0m \u001b[0mdraw_instant\u001b[0m\u001b[0;34m(\u001b[0m\u001b[0mctx\u001b[0m\u001b[0;34m,\u001b[0m \u001b[0maugment_sequence\u001b[0m\u001b[0;34m(\u001b[0m\u001b[0msequence\u001b[0m\u001b[0;34m)\u001b[0m\u001b[0;34m,\u001b[0m \u001b[0;36m256\u001b[0m\u001b[0;34m,\u001b[0m \u001b[0;36m256\u001b[0m\u001b[0;34m,\u001b[0m \u001b[0;36m200\u001b[0m\u001b[0;34m,\u001b[0m \u001b[0mn\u001b[0m\u001b[0;34m=\u001b[0m\u001b[0;36m80\u001b[0m\u001b[0;34m,\u001b[0m \u001b[0mstep\u001b[0m\u001b[0;34m=\u001b[0m\u001b[0;36m5\u001b[0m\u001b[0;34m)\u001b[0m\u001b[0;34m\u001b[0m\u001b[0;34m\u001b[0m\u001b[0m\n\u001b[1;32m      7\u001b[0m \u001b[0mdisplay_surface\u001b[0m\u001b[0;34m(\u001b[0m\u001b[0msurface\u001b[0m\u001b[0;34m)\u001b[0m\u001b[0;34m\u001b[0m\u001b[0;34m\u001b[0m\u001b[0m\n",
      "\u001b[0;31mNameError\u001b[0m: name 'draw_instant' is not defined"
     ]
    }
   ],
   "source": [
    "import random\n",
    "sequence = np.load('data/MABe/example_sequence.npy')\n",
    "surface = cairo.ImageSurface(cairo.FORMAT_ARGB32, 256, 256) # Create the surface\n",
    "ctx = cairo.Context(surface)\n",
    "draw_instant(ctx, sequence, 256, 256, 200, n=80, step=5) # Original\n",
    "draw_instant(ctx, augment_sequence(sequence), 256, 256, 200, n=80, step=5)\n",
    "display_surface(surface)"
   ]
  },
  {
   "cell_type": "markdown",
   "metadata": {},
   "source": [
    "I fed a few thousand of these images to a resnet and trained it for a bit, but couldn't get more than ~66% accuracy so I gave up. The competition took the bulk of my coding time today so this is a short notebook. See you tomorrow."
   ]
  }
 ],
 "metadata": {
  "kernelspec": {
   "display_name": "Python 3",
   "language": "python",
   "name": "python3"
  }
 },
 "nbformat": 4,
 "nbformat_minor": 4
}
