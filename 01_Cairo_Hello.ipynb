{
 "cells": [
  {
   "cell_type": "code",
   "execution_count": null,
   "metadata": {},
   "outputs": [],
   "source": [
    "# default_exp core"
   ]
  },
  {
   "cell_type": "markdown",
   "metadata": {},
   "source": [
    "# Some Cairo Basics\n",
    "\n",
    "> I plan on starting with some arty stuff"
   ]
  },
  {
   "cell_type": "code",
   "execution_count": null,
   "metadata": {},
   "outputs": [],
   "source": [
    "from days_of_code.core import *"
   ]
  },
  {
   "cell_type": "markdown",
   "metadata": {},
   "source": [
    "This should be a chance to try out a drawing library and, importantly, figure out managing dependancies and such before Monday. I tried `sudo apt install libcairo2-dev pkg-config` but `pip install pycairo` still failed :/ Instead I did `pip install cairocffi` so I guess that's what I'm using. I added it to the requirements list in settings.ini."
   ]
  },
  {
   "cell_type": "code",
   "execution_count": null,
   "metadata": {},
   "outputs": [],
   "source": [
    "#export\n",
    "#show\n",
    "import cairocffi as cairo\n",
    "from IPython.display import Image, display\n",
    "\n",
    "def hw_cairo(text):\n",
    "    surface = cairo.ImageSurface(cairo.FORMAT_ARGB32, 300, 200)\n",
    "    context = cairo.Context(surface)\n",
    "    with context:\n",
    "        context.set_source_rgb(1, 1, 1)  # White\n",
    "        context.paint()\n",
    "    # Restore the default source which is black.\n",
    "    context.move_to(90, 140)\n",
    "    context.rotate(-0.5)\n",
    "    context.set_font_size(20)\n",
    "    context.show_text(text)\n",
    "    surface.write_to_png('example.png')\n",
    "    display(Image('example.png'))"
   ]
  },
  {
   "cell_type": "code",
   "execution_count": null,
   "metadata": {},
   "outputs": [
    {
     "data": {
      "image/png": "[encoded data removed]",
      "text/plain": [
       "<IPython.core.display.Image object>"
      ]
     },
     "metadata": {},
     "output_type": "display_data"
    }
   ],
   "source": [
    "#skiptest\n",
    "hw_cairo('Hello World')"
   ]
  },
  {
   "cell_type": "code",
   "execution_count": null,
   "metadata": {},
   "outputs": [
    {
     "name": "stdout",
     "output_type": "stream",
     "text": [
      "Converted 00_core.ipynb.\n",
      "Converted 01_Cairo_Hello.ipynb.\n",
      "Converted index.ipynb.\n"
     ]
    }
   ],
   "source": [
    "#hide\n",
    "from nbdev.export import notebook2script; notebook2script()"
   ]
  },
  {
   "cell_type": "code",
   "execution_count": null,
   "metadata": {},
   "outputs": [],
   "source": []
  }
 ],
 "metadata": {
  "kernelspec": {
   "display_name": "Python 3",
   "language": "python",
   "name": "python3"
  }
 },
 "nbformat": 4,
 "nbformat_minor": 4
}
