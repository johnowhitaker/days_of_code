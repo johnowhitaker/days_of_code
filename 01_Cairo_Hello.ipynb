{
 "cells": [
  {
   "cell_type": "code",
   "execution_count": null,
   "metadata": {},
   "outputs": [],
   "source": [
    "# default_exp core"
   ]
  },
  {
   "cell_type": "markdown",
   "metadata": {},
   "source": [
    "# Some Cairo Basics\n",
    "\n",
    "> I plan on starting with some arty stuff, which means day 1 is me playing with cairo"
   ]
  },
  {
   "cell_type": "code",
   "execution_count": null,
   "metadata": {},
   "outputs": [],
   "source": [
    "#hide\n",
    "from days_of_code.core import *"
   ]
  },
  {
   "cell_type": "markdown",
   "metadata": {},
   "source": [
    "This should be a chance to try out a drawing library and, importantly, figure out managing dependancies and such before Monday. I tried `sudo apt install libcairo2-dev pkg-config` but `pip install pycairo` still failed :/ Instead I did `pip install cairocffi` so I guess that's what I'm using. I added it to the requirements list in settings.ini.\n",
    "\n",
    "Here's the first example I tried, which I export to core.py so that it can be used elsewhere. The main motivation here was to check that evreything works and to see how NBDev handles this sort of thing. You'll notice it hides the actual method by default, but gives the docstring."
   ]
  },
  {
   "cell_type": "code",
   "execution_count": null,
   "metadata": {},
   "outputs": [],
   "source": [
    "#export\n",
    "import cairocffi as cairo\n",
    "from IPython.display import Image, display\n",
    "\n",
    "def hw_cairo(text):\n",
    "    \"\"\" Write text as an angled line on a cairo ImageSurface and save to example.png, then display it.\"\"\"\n",
    "    surface = cairo.ImageSurface(cairo.FORMAT_ARGB32, 300, 200)\n",
    "    context = cairo.Context(surface)\n",
    "    with context:\n",
    "        context.set_source_rgb(1, 1, 1)  # White\n",
    "        context.paint()\n",
    "    # Restore the default source which is black.\n",
    "    context.move_to(90, 140)\n",
    "    context.rotate(-0.5)\n",
    "    context.set_font_size(20)\n",
    "    context.show_text(text)\n",
    "    surface.write_to_png('example.png')\n",
    "    display(Image('example.png'))"
   ]
  },
  {
   "cell_type": "code",
   "execution_count": null,
   "metadata": {},
   "outputs": [
    {
     "data": {
      "image/png": "[encoded data removed]",
      "text/plain": [
       "<IPython.core.display.Image object>"
      ]
     },
     "metadata": {},
     "output_type": "display_data"
    }
   ],
   "source": [
    "#skiptest\n",
    "hw_cairo('Hello World')"
   ]
  },
  {
   "cell_type": "markdown",
   "metadata": {},
   "source": [
    "# Inter-conversions\n",
    "\n",
    "I know I will want to work with inputs (image files, numpy arrays, PIL) and convert my cairo surfaces to numpy arrays to mess with them and then convert back, etc. So let's mess with that a little bit."
   ]
  },
  {
   "cell_type": "code",
   "execution_count": null,
   "metadata": {},
   "outputs": [],
   "source": [
    "#export \n",
    "import numpy as np\n",
    "import PIL\n",
    "def surface_to_npy(surface):\n",
    "    \"\"\" Cairo ImageSurface to numpy array for inline display\"\"\"\n",
    "    buf = surface.get_data()\n",
    "    im = np.frombuffer(buf, dtype=np.uint8)\n",
    "    h = surface.get_height()\n",
    "    w = surface.get_width()\n",
    "    im = np.reshape(im, [h, w, 4])\n",
    "    # swap axis to get r-g-b-alpha\n",
    "    im = im[:, :, [2, 1, 0, 3]]\n",
    "    return im"
   ]
  },
  {
   "cell_type": "markdown",
   "metadata": {},
   "source": [
    "Creating a surface to mess with:"
   ]
  },
  {
   "cell_type": "code",
   "execution_count": null,
   "metadata": {},
   "outputs": [],
   "source": [
    "surface = cairo.ImageSurface(cairo.FORMAT_ARGB32, 200, 100) # Creating a surface to play with\n",
    "context = cairo.Context(surface)\n",
    "context.set_source_rgb(0, 1, 0)  # green\n",
    "context.move_to(50, 50)\n",
    "context.show_text('Hello World')"
   ]
  },
  {
   "cell_type": "markdown",
   "metadata": {},
   "source": [
    "Viewing with matplotlib"
   ]
  },
  {
   "cell_type": "code",
   "execution_count": null,
   "metadata": {},
   "outputs": [
    {
     "data": {
      "text/plain": [
       "<matplotlib.image.AxesImage at 0x7f70998af6d0>"
      ]
     },
     "execution_count": null,
     "metadata": {},
     "output_type": "execute_result"
    },
    {
     "data": {
      "image/png": "[encoded data removed]",
      "text/plain": [
       "<Figure size 432x288 with 1 Axes>"
      ]
     },
     "metadata": {
      "needs_background": "light"
     },
     "output_type": "display_data"
    }
   ],
   "source": [
    "from matplotlib import pyplot as plt\n",
    "plt.imshow(surface_to_npy(surface))"
   ]
  },
  {
   "cell_type": "markdown",
   "metadata": {},
   "source": [
    "A nicer way to view the image without the matplotlib axes is to using PIL and IPython's display. We might as well make a surface_to_PIL function and a display_surface function since we will want to do this a lot."
   ]
  },
  {
   "cell_type": "code",
   "execution_count": null,
   "metadata": {},
   "outputs": [],
   "source": [
    "#export\n",
    "def surface_to_PIL(surface):\n",
    "    return PIL.Image.fromarray(surface_to_npy(surface))\n",
    "\n",
    "def display_surface(surface):\n",
    "    display(surface_to_PIL(surface))"
   ]
  },
  {
   "cell_type": "code",
   "execution_count": null,
   "metadata": {},
   "outputs": [
    {
     "data": {
      "image/png": "[encoded data removed]",
      "text/plain": [
       "<PIL.Image.Image image mode=RGBA size=200x100 at 0x7F70AD259750>"
      ]
     },
     "metadata": {},
     "output_type": "display_data"
    }
   ],
   "source": [
    "display_surface(surface)"
   ]
  },
  {
   "cell_type": "markdown",
   "metadata": {},
   "source": [
    "# Animation\n",
    "\n",
    "I like to watch things as they happen. ipywidgets should make for fun animations."
   ]
  },
  {
   "cell_type": "code",
   "execution_count": null,
   "metadata": {},
   "outputs": [
    {
     "data": {
      "application/vnd.jupyter.widget-view+json": {
       "model_id": "0f3425ffb1bb42ddb27437f218e53540",
       "version_major": 2,
       "version_minor": 0
      },
      "text/plain": [
       "Image(value=b'\\x89PNG\\r\\n\\x1a\\n\\x00\\x00\\x00\\rIHDR\\x00\\x00\\x00\\xc8\\x00\\x00\\x00d\\x08\\x06\\x00\\x00\\x00\\xc3\\x86\\x7f…"
      ]
     },
     "metadata": {},
     "output_type": "display_data"
    }
   ],
   "source": [
    "import ipywidgets as widgets\n",
    "\n",
    "# Set up surface\n",
    "surface = cairo.ImageSurface(cairo.FORMAT_ARGB32, 200, 100) # Creating a surface to play with\n",
    "context = cairo.Context(surface)\n",
    "\n",
    "imw = widgets.Image(\n",
    "    value=surface.write_to_png(),\n",
    "    format='png',\n",
    "    width=300,\n",
    "    height=400,\n",
    ")\n",
    "display(imw)"
   ]
  },
  {
   "cell_type": "code",
   "execution_count": null,
   "metadata": {},
   "outputs": [],
   "source": [
    "import time\n",
    "for i in range(10):\n",
    "    context.set_source_rgb(0, 1, i/10)  # green\n",
    "    context.move_to(50, 50+i*5)\n",
    "    context.show_text(f'Hello {i}')\n",
    "    imw.value = surface.write_to_png()\n",
    "    time.sleep(0.1)"
   ]
  },
  {
   "cell_type": "markdown",
   "metadata": {},
   "source": [
    "We first make out blank canvas and display that. Whenever we want to update the image, we simply modify the value of the widget. A neat trick here is that `surface.write_to_png()` returns an io.BytesIO thingee if we don't specify a target, which we can pass straight to the widget (before I was messing about trying to get this same thing to happen the long way around). This is pretty neat - we can set up a surface and then occasionally draw to it when we want to see updates. Let's demonstrate this with an example drawing a crazy amount of rectangles:"
   ]
  },
  {
   "cell_type": "code",
   "execution_count": null,
   "metadata": {},
   "outputs": [
    {
     "data": {
      "application/vnd.jupyter.widget-view+json": {
       "model_id": "cc221e93ce95478f8fe10a8fa67c886e",
       "version_major": 2,
       "version_minor": 0
      },
      "text/plain": [
       "Image(value=b'\\x89PNG\\r\\n\\x1a\\n\\x00\\x00\\x00\\rIHDR\\x00\\x00\\x02X\\x00\\x00\\x01\\x90\\x08\\x06\\x00\\x00\\x00r5\\x1e\\x98\\x…"
      ]
     },
     "metadata": {},
     "output_type": "display_data"
    }
   ],
   "source": [
    "# skiptest\n",
    "import random\n",
    "\n",
    "# Set up surface\n",
    "surface = cairo.ImageSurface(cairo.FORMAT_ARGB32, 600, 400) # Creating a surface to play with\n",
    "context = cairo.Context(surface)\n",
    "\n",
    "imw = widgets.Image(\n",
    "    value=surface.write_to_png(),\n",
    "    format='png',\n",
    "    width=600,\n",
    "    height=400,\n",
    ")\n",
    "display(imw)\n",
    "\n",
    "for i in range(100000):\n",
    "    context.set_source_rgba(0.6, i/1e4, 1-i/1e5, 1-i/1e5)\n",
    "    x, y = random.random()*600, random.random()*400\n",
    "    context.rectangle(x, y, 2, 2)\n",
    "    context.fill()\n",
    "    if i%1e4 == 0: # Change this to alter the number of updates (this affects the speed of the loop)\n",
    "        imw.value = surface.write_to_png()"
   ]
  },
  {
   "cell_type": "markdown",
   "metadata": {},
   "source": [
    "# Conclusions\n",
    "\n",
    "That's an hour of mostly logistics, but at the end of it we have easy ways to play with cairo in Jupyter, including converting surfaces to arrays, displaying them and, most satisfying, a good fast way to render animations for our viewing pleasure. Tomorrow I hope to start the actual fun stuff."
   ]
  },
  {
   "cell_type": "code",
   "execution_count": null,
   "metadata": {},
   "outputs": [
    {
     "name": "stdout",
     "output_type": "stream",
     "text": [
      "Converted 00_core.ipynb.\n",
      "Converted 01_Cairo_Hello.ipynb.\n",
      "Converted index.ipynb.\n"
     ]
    }
   ],
   "source": [
    "#hide\n",
    "from nbdev.export import notebook2script; notebook2script() # To save doing this on the command line"
   ]
  },
  {
   "cell_type": "code",
   "execution_count": null,
   "metadata": {},
   "outputs": [],
   "source": []
  }
 ],
 "metadata": {
  "kernelspec": {
   "display_name": "Python 3",
   "language": "python",
   "name": "python3"
  }
 },
 "nbformat": 4,
 "nbformat_minor": 4
}
